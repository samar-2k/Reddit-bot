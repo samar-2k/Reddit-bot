{
  "nbformat": 4,
  "nbformat_minor": 0,
  "metadata": {
    "colab": {
      "name": "reddit_course.ipynb",
      "provenance": [],
      "collapsed_sections": []
    },
    "kernelspec": {
      "display_name": "Python 3",
      "name": "python3"
    },
    "language_info": {
      "name": "python"
    }
  },
  "cells": [
    {
      "cell_type": "code",
      "metadata": {
        "id": "C2N0NA1CtlX9"
      },
      "source": [
        "!pip install praw\n",
        "import praw\n",
        "\n",
        "reddit = praw.Reddit(client_id='aCsxA497160GjRop_8DDXA',\n",
        "                     client_secret='rAuMc2mxJPwLMsX4xYqNrpg5ifa7ig',\n",
        "                     user_agent='a reddit instance',\n",
        "                     username='DistinctCap2574',\n",
        "                     password='this is the password',\n",
        "                     check_for_async=False)\n",
        "\n"
      ],
      "execution_count": null,
      "outputs": []
    },
    {
      "cell_type": "code",
      "metadata": {
        "id": "9WwdceGPxJKu"
      },
      "source": [
        "for submission in reddit.subreddit(\"learnpython\").hot(limit=10):\n",
        "    print(submission.title)\n",
        "    print(submission.score)\n",
        "    print(submission.url)\n",
        "    print(submission.author)"
      ],
      "execution_count": null,
      "outputs": []
    },
    {
      "cell_type": "code",
      "metadata": {
        "id": "S06wka1cxWJO"
      },
      "source": [
        "for comment in reddit.subreddit(\"learnpython+python\").comments():\n",
        "  print(comment.body)"
      ],
      "execution_count": null,
      "outputs": []
    },
    {
      "cell_type": "code",
      "metadata": {
        "id": "X35jsfcFygkW"
      },
      "source": [
        "trigger_phrase = \"and\"\n",
        "for comment in reddit.subreddit(\"learnpython+python\").stream.comments():\n",
        "  if trigger_phrase in comment.body.lower():\n",
        "    print(comment.body)"
      ],
      "execution_count": null,
      "outputs": []
    },
    {
      "cell_type": "code",
      "metadata": {
        "id": "2jks3P4Cy__P"
      },
      "source": [
        "import time\n",
        "for submission in reddit.subreddit(\"all\").stream.submissions():\n",
        "  submission.upvote()\n",
        "  submission.clear_vote()\n",
        "  # submission.downvote()\n",
        "  submission.reply(\"hello\")\n",
        "  time.sleep(15)"
      ],
      "execution_count": null,
      "outputs": []
    },
    {
      "cell_type": "code",
      "metadata": {
        "id": "WcbN9qvQ9FtV"
      },
      "source": [
        "subreddit = reddit.subreddit(\"johntesting\")\n",
        "subreddit.subscribe()\n",
        "subreddit.unsubscribe()"
      ],
      "execution_count": null,
      "outputs": []
    },
    {
      "cell_type": "code",
      "metadata": {
        "id": "5EgGizhe9eI3"
      },
      "source": [
        "user = \"Alternative-Use-2277\"\n",
        "reddit.redditor(user).message(\"Hello\", \"I am john\")"
      ],
      "execution_count": null,
      "outputs": []
    },
    {
      "cell_type": "code",
      "metadata": {
        "id": "_l_eX9ce98cc"
      },
      "source": [
        "subreddit.submit(\"Hello\", \"I am John\")"
      ],
      "execution_count": null,
      "outputs": []
    },
    {
      "cell_type": "code",
      "metadata": {
        "id": "-oJ95JIOwx9w"
      },
      "source": [
        "import time\n",
        "trigger_phrase = \"do something\"\n",
        "messages = reddit.inbox.stream()\n",
        "for message in messages:\n",
        "  try:\n",
        "    if message in reddit.inbox.mentions() and message in reddit.inbox.unread():\n",
        "      if trigger_phrase in message.body:\n",
        "        message.reply(\"*Does something*\")\n",
        "        print(message.body)\n",
        "      message.mark_read()\n",
        "  except praw.exception.APIException:\n",
        "    print(\"Probably a rate limit :(\")\n",
        "  time.sleep(15)\n"
      ],
      "execution_count": null,
      "outputs": []
    },
    {
      "cell_type": "code",
      "metadata": {
        "id": "oIzysKwhDpaQ"
      },
      "source": [
        "import requests\n",
        "import bs4\n",
        "import random\n",
        "import time\n",
        "trigger_phrase = \"fact\"\n",
        "messages = reddit.inbox.stream()\n",
        "for message in messages:\n",
        "  try:\n",
        "    if message in reddit.inbox.mentions() and message in reddit.inbox.unread():\n",
        "      if trigger_phrase in message.body:\n",
        "        res = requests.get(\"https://www.kickassfacts.com/fact-of-the-day/\")\n",
        "        res.raise_for_status()\n",
        "        soup = bs4.BeautifulSoup(res.text, \"html.parser\")\n",
        "        soupy = soup.select(\"div > ol > li\")\n",
        "        ran_int = random.randint(1,30)\n",
        "        fact = soupy[ran_int].getText()\n",
        "        fact = fact[:-8]\n",
        "\n",
        "        message.reply(fact)\n",
        "        print(fact)\n",
        "\n",
        "        message.mark_read()\n",
        "  except praw.exception.APIException:\n",
        "    print(\"Probably a rate limit :(\")\n",
        "  time.sleep(15)"
      ],
      "execution_count": null,
      "outputs": []
    },
    {
      "cell_type": "code",
      "metadata": {
        "id": "Ap77TNB_H2TM"
      },
      "source": [
        "subreddit = reddit.subreddit(\"Johntesting\").new()\n",
        "\n",
        "def has_flair():\n",
        "  while True:\n",
        "    for sub in subreddit:\n",
        "      if sub.link_flair_text:\n",
        "        print(sub.link_flair_text)\n",
        "      else:\n",
        "        print(\"No flair\")\n",
        "\n",
        "        sub.mod.remove()\n",
        "        poster = sub.author\n",
        "        reddit.redditor(str(poster)).message(\"Your post was removed from r/Johntesting\", \"You didn't have a flair\")\n",
        "\n",
        "        time.sleep(30)\n",
        "\n",
        "has_flair()"
      ],
      "execution_count": null,
      "outputs": []
    },
    {
      "cell_type": "code",
      "metadata": {
        "id": "ZEq98V4gKPD4"
      },
      "source": [
        "banned_words = [\"heck\", \"frick\"]\n",
        "\n",
        "for comment in reddit.subreddit(\"Johntesting\").stream.comments():\n",
        "  for i in range(len(banned_words)):\n",
        "    if banned_words[i] in comment.body:\n",
        "      comment.mod.remove()\n",
        "      poster = str(comment.author)\n",
        "      reddit.redditor(poster).message(\"Your post was banned from r/Johntesting\", \"You said a bad word\")\n",
        "      \n",
        "      print(comment.body)\n",
        "      time.sleep(10)"
      ],
      "execution_count": null,
      "outputs": []
    },
    {
      "cell_type": "code",
      "metadata": {
        "colab": {
          "background_save": true
        },
        "id": "ajNGxM-2ME9O"
      },
      "source": [
        "import praw\n",
        "# !pip install heapq\n",
        "# !pip install yahoo_fin\n",
        "from heapq import nlargest\n",
        "from yahoo_fin import stock_info as si\n",
        "\n",
        "def get_price(stock_ticker):\n",
        "  return (si.get_live_price(stock_ticker))\n",
        "\n",
        "numbers = [1, 2, 3, 4, 5, 6, 7, 8, 9, 0, \" \", \".\", \";\", \")\", \",\", \"$\", \"?\", \">\", \"<\", \"\\\"\", \"!\", \"+\", \"-\", \"*\"]\n",
        "phrase = \"$\"\n",
        "all_stocks = []\n",
        "rankings = {}\n",
        "stock_prices = {}\n",
        "\n",
        "for comment in reddit.subreddit(\"wallstreetbets+stocks+personalfinance\").stream.comments():\n",
        "  if phrase in comment.body:\n",
        "    index = comment.body.index(phrase)\n",
        "    ticker = \"\"\n",
        "    ticker += comment.body[index]\n",
        "    x = 1\n",
        "    try:\n",
        "        if comment.body[index + x] in str(numbers):\n",
        "          continue\n",
        "    except:\n",
        "        continue\n",
        "    while True:\n",
        "        try:\n",
        "            if comment.body[index + x] not in numbers:\n",
        "              ticker += comment.body[index + x]\n",
        "              x += 1\n",
        "            \n",
        "            else:\n",
        "              break\n",
        "        except:\n",
        "          break\n",
        "\n",
        "    ticker = ticker.upper()\n",
        "    if len(ticker) > 6:\n",
        "      continue\n",
        "    \n",
        "    if ticker not in all_stocks:\n",
        "      all_stocks.append(ticker)\n",
        "      rankings[ticker] = 1\n",
        "    \n",
        "    elif ticker in all_stocks:\n",
        "      rankings[ticker] += 1\n",
        "    \n",
        "    largest = nlargest(5, rankings, key=rankings.get)\n",
        "\n",
        "    for i in range(len(largest)-1):\n",
        "      a = largest[i]\n",
        "      no_dollar = a[1:]\n",
        "      try:\n",
        "        stock_prices[largest[i]] = get_price(no_dollar)\n",
        "      except:\n",
        "        continue\n",
        "\n",
        "    print(rankings)\n",
        "    print(largest)\n",
        "    print(stock_prices)\n",
        "    print(\"\\n\")\n",
        "\n",
        "\n"
      ],
      "execution_count": null,
      "outputs": []
    },
    {
      "cell_type": "code",
      "metadata": {
        "id": "Ozji28E2wRGR"
      },
      "source": [
        "# https://github.com/tstewart161/Reddit_Sentiment_Trader/blob/main/main.py\n",
        "#!/usr/bin/env python\n",
        "# coding: utf-8\n",
        "\n",
        "# In[1]:\n",
        "\n",
        "\n",
        "import nltk\n",
        "from nltk.sentiment.vader import SentimentIntensityAnalyzer as SIA\n",
        "import praw\n",
        "import matplotlib.pyplot as plt\n",
        "import math\n",
        "import datetime as dt\n",
        "import pandas as pd\n",
        "import numpy as np\n",
        "\n",
        "\n",
        "# In[2]:\n",
        "\n",
        "\n",
        "nltk.download('vader_lexicon')\n",
        "nltk.download('stopwords')\n",
        "\n",
        "\n",
        "sub_reddits = reddit.subreddit('wallstreetbets')\n",
        "stocks = [\"GME\", \"AMC\", \"TSLA\"] \n",
        "# For example purposes. To use this as a live trading tool, you'd want to populate this with tickers that have been mentioned on the pertinent community (WSB in our case) in a specified period.\n",
        "\n",
        "\n",
        "# In[5]:\n",
        "\n",
        "\n",
        "def commentSentiment(ticker, urlT):\n",
        "    subComments = []\n",
        "    bodyComment = []\n",
        "    try:\n",
        "        check = reddit.submission(url=urlT)\n",
        "        subComments = check.comments\n",
        "    except:\n",
        "        return 0\n",
        "    \n",
        "    for comment in subComments:\n",
        "        try: \n",
        "            bodyComment.append(comment.body)\n",
        "        except:\n",
        "            return 0\n",
        "    \n",
        "    sia = SIA()\n",
        "    results = []\n",
        "    for line in bodyComment:\n",
        "        scores = sia.polarity_scores(line)\n",
        "        scores['headline'] = line\n",
        "\n",
        "        results.append(scores)\n",
        "    \n",
        "    df =pd.DataFrame.from_records(results)\n",
        "    df.head()\n",
        "    df['label'] = 0\n",
        "    \n",
        "    try:\n",
        "        df.loc[df['compound'] > 0.1, 'label'] = 1\n",
        "        df.loc[df['compound'] < -0.1, 'label'] = -1\n",
        "    except:\n",
        "        return 0\n",
        "    \n",
        "    averageScore = 0\n",
        "    position = 0\n",
        "    while position < len(df.label)-1:\n",
        "        averageScore = averageScore + df.label[position]\n",
        "        position += 1\n",
        "    averageScore = averageScore/len(df.label) \n",
        "    \n",
        "    return(averageScore)\n",
        "\n",
        "\n",
        "# In[6]:\n",
        "\n",
        "\n",
        "def latestComment(ticker, urlT):\n",
        "    subComments = []\n",
        "    updateDates = []\n",
        "    try:\n",
        "        check = reddit.submission(url=urlT)\n",
        "        subComments = check.comments\n",
        "    except:\n",
        "        return 0\n",
        "    \n",
        "    for comment in subComments:\n",
        "        try: \n",
        "            updateDates.append(comment.created_utc)\n",
        "        except:\n",
        "            return 0\n",
        "    \n",
        "    updateDates.sort()\n",
        "    return(updateDates[-1])\n",
        "\n",
        "\n",
        "# In[7]:\n",
        "\n",
        "\n",
        "def get_date(date):\n",
        "    return dt.datetime.fromtimestamp(date)\n",
        "\n",
        "\n",
        "# In[8]:\n",
        "\n",
        "\n",
        "submission_statistics = []\n",
        "d = {}\n",
        "for ticker in stocks:\n",
        "    for submission in reddit.subreddit('wallstreetbets').search(ticker, limit=130):\n",
        "        if submission.domain != \"self.wallstreetbets\":\n",
        "            continue\n",
        "        d = {}\n",
        "        d['ticker'] = ticker\n",
        "        d['num_comments'] = submission.num_comments\n",
        "        d['comment_sentiment_average'] = commentSentiment(ticker, submission.url)\n",
        "        if d['comment_sentiment_average'] == 0.000000:\n",
        "            continue\n",
        "        d['latest_comment_date'] = latestComment(ticker, submission.url)\n",
        "        d['score'] = submission.score\n",
        "        d['upvote_ratio'] = submission.upvote_ratio\n",
        "        d['date'] = submission.created_utc\n",
        "        d['domain'] = submission.domain\n",
        "        d['num_crossposts'] = submission.num_crossposts\n",
        "        d['author'] = submission.author\n",
        "        submission_statistics.append(d)\n",
        "    \n",
        "dfSentimentStocks = pd.DataFrame(submission_statistics)\n",
        "\n",
        "_timestampcreated = dfSentimentStocks[\"date\"].apply(get_date)\n",
        "dfSentimentStocks = dfSentimentStocks.assign(timestamp = _timestampcreated)\n",
        "\n",
        "_timestampcomment = dfSentimentStocks[\"latest_comment_date\"].apply(get_date)\n",
        "dfSentimentStocks = dfSentimentStocks.assign(commentdate = _timestampcomment)\n",
        "\n",
        "dfSentimentStocks.sort_values(\"latest_comment_date\", axis = 0, ascending = True,inplace = True, na_position ='last') \n",
        "\n",
        "dfSentimentStocks\n",
        "\n",
        "\n",
        "# In[9]:\n",
        "\n",
        "\n",
        "dfSentimentStocks.author.value_counts()\n",
        "\n",
        "\n",
        "# In[10]:\n",
        "\n",
        "\n",
        "dfSentimentStocks.to_csv('Reddit_Sentiment_Equity.csv', index=False) \n",
        "\n",
        "\n",
        "# In[ ]:"
      ],
      "execution_count": null,
      "outputs": []
    },
    {
      "cell_type": "code",
      "metadata": {
        "colab": {
          "base_uri": "https://localhost:8080/",
          "height": 248
        },
        "id": "3FzruECCi7q6",
        "outputId": "98803224-e863-48ee-ca1e-4b42fbe15cc6"
      },
      "source": [
        "#!pip install matplotlib\n",
        "#!pip install nltk\n",
        "#!pip install datetime\n",
        "import matplotlib.pyplot as plt\n",
        "from datetime import datetime, timedelta\n",
        "import nltk\n",
        "#nltk.download(\"vader_lexicon\")\n",
        "from nltk.sentiment.vader import SentimentIntensityAnalyzer\n",
        "analyzer = SentimentIntensityAnalyzer()\n",
        "\n",
        "import time\n",
        "\n",
        "def sentiment_analysis(subreddit, time_running):\n",
        "  sizes = [0,0]\n",
        "  end_time = datetime.now() + timedelta(seconds=time_running)\n",
        "  for comment in reddit.subreddit(subreddit).stream.comments():\n",
        "    if datetime.now() > end_time:\n",
        "      break\n",
        "    results = analyzer.polarity_scores(comment.body)\n",
        "    sentiment = results[\"compound\"]\n",
        "\n",
        "    if sentiment > 0.5:\n",
        "      sizes[0] += 1\n",
        "\n",
        "    elif sentiment < -0.5:\n",
        "      sizes[1] += 1\n",
        "\n",
        "  return sizes\n",
        "\n",
        "labels = [\"Positive\", \"Negative\"]\n",
        "\n",
        "plt.pie(sentiment_analysis(\"ethereum\", 60), labels=labels, autopct=\"%1.1f%%\")\n",
        "plt.show()\n"
      ],
      "execution_count": null,
      "outputs": [
        {
          "output_type": "display_data",
          "data": {
            "image/png": "[encoded data removed]",
            "text/plain": [
              "<Figure size 432x288 with 1 Axes>"
            ]
          },
          "metadata": {
            "tags": []
          }
        }
      ]
    },
    {
      "cell_type": "code",
      "metadata": {
        "id": "_YEVVcAMQQEr"
      },
      "source": [
        "!pip install cryptocompare\n",
        "import cryptocompare\n",
        "!pip install datetime\n",
        "from datetime import date\n",
        "from datetime import timedelta\n",
        "import matplotlib.pyplot as plt\n",
        "\n",
        "today = date.today()\n",
        "\n",
        "def price_change(crypto_ticker):\n",
        "  yesterday = today - timedelta(days=1)\n",
        "  date = yesterday.strftime(\"%y,%m,%d\")\n",
        "  current_price = cryptocompare.get_price(crypto_ticker)[crypto_ticker][\"EUR\"]\n",
        "\n",
        "  yesterday_price = cryptocompare.get_historical_price(crypto_ticker, \"EUR\", yesterday)[crypto_ticker][\"EUR\"]\n",
        "\n",
        "  percent_change = ((current_price - yesterday_price) / yesterday_price) * 100\n",
        "  change = \"\"\n",
        "  if percent_change > 0:\n",
        "    change = \"increase\"\n",
        "  if percent_change < 0:\n",
        "    change = \"decrease\"\n",
        "\n",
        "  print(f\"{percent_change}% {change} in the last day\") \n",
        "\n",
        "price_change(\"DOGE\")"
      ],
      "execution_count": null,
      "outputs": []
    },
    {
      "cell_type": "code",
      "metadata": {
        "id": "dz1sgDcUUR8e"
      },
      "source": [
        "from datetime import datetime\n",
        "\n",
        "def keywords(subreddit, keyword1, keyword2, time_running):\n",
        "  keyword_counter = [0,0]\n",
        "  end_time = datetime.now() + timedelta(seconds=time_running)\n",
        "  for comment in reddit.subreddit(subreddit).stream.comments():\n",
        "    if datetime.now() > end_time:\n",
        "      break\n",
        "    if keyword1 in comment.body.lower():\n",
        "      keyword_counter[0] += 1\n",
        "    elif keyword2 in comment.body.lower():\n",
        "      keyword_counter[1] += 1\n",
        "\n",
        "  return keyword_counter\n",
        "\n",
        "labels = [\"positive\", \"negative\"]\n",
        "plt.pie(keywords(\"Bitcoin\", \"positive\", \"negative\", 60), labels=labels, autopct=\"%1.1f%%\")\n",
        "\n",
        "plt.show()\n",
        "\n",
        "price_change(\"BTC\")"
      ],
      "execution_count": null,
      "outputs": []
    },
    {
      "cell_type": "code",
      "metadata": {
        "id": "4_gQNSGm14hY"
      },
      "source": [
        "import random\n",
        "import time\n",
        "def karma():\n",
        "  try:\n",
        "    messages = [\"Upvoted, upvote in return?\", \"Great post, care to share the upvotes!\"]\n",
        "    for submission in reddit.subreddit(\"FreeKarma4U+FreeKarma4You\").stream.submissions():\n",
        "      submission.upvote()\n",
        "      rand = random.randint(0, (len(messages)-1))\n",
        "      print(submission.title)\n",
        "      submission.reply(messages[rand])\n",
        "      time.sleep(30)\n",
        "  except:\n",
        "    time.sleep(300)\n",
        "    karma()\n",
        "karma()"
      ],
      "execution_count": null,
      "outputs": []
    },
    {
      "cell_type": "code",
      "metadata": {
        "id": "uQzsRAwXbj_H"
      },
      "source": [
        "import time\n",
        "trigger_phrase = \"a\"\n",
        "for comments in reddit.subreddit(\"BTC\").stream.comments():\n",
        " if trigger_phrase in comments.body.lower():\n",
        "   print(comments.body, comments.author)\n",
        "   time.sleep(5)\n",
        "\n",
        "    "
      ],
      "execution_count": null,
      "outputs": []
    },
    {
      "cell_type": "code",
      "metadata": {
        "id": "DqlcxDH5hCrp"
      },
      "source": [
        "import time\n",
        "def keyword():\n",
        "  trigger_phrase = [\"b\", \"a\"]\n",
        "\n",
        "  for comment in reddit.subreddit(\"gaming\").stream.comments():\n",
        "    for i in range(len(trigger_phrase)):\n",
        "      if trigger_phrase[i] in comment.body:\n",
        "        name = comment.author.name\n",
        "        title = f\"Hello, {name}\"\n",
        "        text = \"Buy my game\"\n",
        "        try:\n",
        "          reddit.redditor(name).message(title, text)\n",
        "        except:\n",
        "          continue\n",
        "        print(f\"u/{name}, Comment body: {comment.body}\")\n",
        "        time.sleep(5)\n",
        "        continue\n",
        "\n",
        "keyword()\n"
      ],
      "execution_count": null,
      "outputs": []
    }
  ]
}